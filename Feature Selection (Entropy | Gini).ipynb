{
 "cells": [
  {
   "cell_type": "code",
   "execution_count": 1,
   "metadata": {},
   "outputs": [],
   "source": [
    "import numpy as np\n",
    "import pandas as pd"
   ]
  },
  {
   "cell_type": "code",
   "execution_count": 2,
   "metadata": {},
   "outputs": [
    {
     "data": {
      "text/html": [
       "<div>\n",
       "<style scoped>\n",
       "    .dataframe tbody tr th:only-of-type {\n",
       "        vertical-align: middle;\n",
       "    }\n",
       "\n",
       "    .dataframe tbody tr th {\n",
       "        vertical-align: top;\n",
       "    }\n",
       "\n",
       "    .dataframe thead th {\n",
       "        text-align: right;\n",
       "    }\n",
       "</style>\n",
       "<table border=\"1\" class=\"dataframe\">\n",
       "  <thead>\n",
       "    <tr style=\"text-align: right;\">\n",
       "      <th></th>\n",
       "      <th>Outlook</th>\n",
       "      <th>Temperature</th>\n",
       "      <th>Humidity</th>\n",
       "      <th>Wind</th>\n",
       "      <th>Play</th>\n",
       "    </tr>\n",
       "  </thead>\n",
       "  <tbody>\n",
       "    <tr>\n",
       "      <th>0</th>\n",
       "      <td>Sunny</td>\n",
       "      <td>Hot</td>\n",
       "      <td>High</td>\n",
       "      <td>Weak</td>\n",
       "      <td>No</td>\n",
       "    </tr>\n",
       "    <tr>\n",
       "      <th>1</th>\n",
       "      <td>Sunny</td>\n",
       "      <td>Hot</td>\n",
       "      <td>High</td>\n",
       "      <td>Strong</td>\n",
       "      <td>No</td>\n",
       "    </tr>\n",
       "    <tr>\n",
       "      <th>2</th>\n",
       "      <td>Overcast</td>\n",
       "      <td>Hot</td>\n",
       "      <td>High</td>\n",
       "      <td>Weak</td>\n",
       "      <td>Yes</td>\n",
       "    </tr>\n",
       "    <tr>\n",
       "      <th>3</th>\n",
       "      <td>Rain</td>\n",
       "      <td>Mild</td>\n",
       "      <td>High</td>\n",
       "      <td>Weak</td>\n",
       "      <td>Yes</td>\n",
       "    </tr>\n",
       "    <tr>\n",
       "      <th>4</th>\n",
       "      <td>Rain</td>\n",
       "      <td>Cool</td>\n",
       "      <td>Normal</td>\n",
       "      <td>Weak</td>\n",
       "      <td>Yes</td>\n",
       "    </tr>\n",
       "  </tbody>\n",
       "</table>\n",
       "</div>"
      ],
      "text/plain": [
       "    Outlook Temperature Humidity    Wind Play\n",
       "0     Sunny         Hot     High    Weak   No\n",
       "1     Sunny         Hot     High  Strong   No\n",
       "2  Overcast         Hot     High    Weak  Yes\n",
       "3      Rain        Mild     High    Weak  Yes\n",
       "4      Rain        Cool   Normal    Weak  Yes"
      ]
     },
     "execution_count": 2,
     "metadata": {},
     "output_type": "execute_result"
    }
   ],
   "source": [
    "data = pd.read_csv('https://raw.githubusercontent.com/bitstorm/decision-tree-example/master/src/main/java/org/bitstorm/wekaexample/weather.csv')\n",
    "data.head()"
   ]
  },
  {
   "cell_type": "code",
   "execution_count": 3,
   "metadata": {},
   "outputs": [],
   "source": [
    "def _calculate_weighted_entropy(data, target):\n",
    "    \"\"\"\n",
    "    It calculates weighted entropy of dataframe and returns entropy\n",
    "    for each attribute.\n",
    "    \n",
    "    :param data: Dataframe\n",
    "        Pandas dataframe.\n",
    "    :param target: str\n",
    "        Target column name\n",
    "    :return features_entropy: dict()\n",
    "        Returns entropy of each attribute in a dictionary.\n",
    "    \"\"\"\n",
    "    \n",
    "    features_entropy = {}\n",
    "    features = list(data.columns)[:-1]\n",
    "    classes = list(data[target].unique())\n",
    "    \n",
    "    #This loop iterates over every feature in dataset..\n",
    "    for feature in features:\n",
    "        feature_categories = list(data[feature].unique())\n",
    "        \n",
    "        entropy_sum = 0.0\n",
    "        #This loop calculates weighted_entropy...\n",
    "        for category in feature_categories:\n",
    "            prob_category = len(data[data[feature] == category])/len(data[feature])\n",
    "            \n",
    "            entropy_category = 0.0\n",
    "            #This loop calculates entropy...\n",
    "            for _class in classes:\n",
    "                prob_subcategory = len(data[(data[feature] == category) & (data[data.columns[-1]] == _class)])/len(data[data[feature] == category])\n",
    "                entropy_category += -1.0 * (prob_subcategory * np.log2(prob_subcategory+1e-323))\n",
    "            \n",
    "            entropy_sum += prob_category * entropy_category\n",
    "        \n",
    "        features_entropy[feature] = entropy_sum\n",
    "     \n",
    "    return features_entropy"
   ]
  },
  {
   "cell_type": "code",
   "execution_count": 4,
   "metadata": {},
   "outputs": [],
   "source": [
    "#_calculate_weighted_entropy(data, 'Play')"
   ]
  },
  {
   "cell_type": "code",
   "execution_count": 5,
   "metadata": {},
   "outputs": [],
   "source": [
    "#_calculate_weighted_entropy(data, 'Play')"
   ]
  },
  {
   "cell_type": "code",
   "execution_count": 6,
   "metadata": {},
   "outputs": [],
   "source": [
    "def _calculate_weighted_gini(data, target):\n",
    "    \"\"\"\n",
    "    It calculates weighted gini of dataframe and returns entropy\n",
    "    for each attribute.\n",
    "    \n",
    "    :param data: Dataframe\n",
    "        Pandas dataframe.\n",
    "    :param target: str\n",
    "        Target column name\n",
    "    :return features_entropy: dict()\n",
    "        Returns gini of each attribute in a dictionary.\n",
    "    \"\"\"\n",
    "    \n",
    "    features_gini = {}\n",
    "    features = list(data.columns)[:-1]\n",
    "    classes = list(data[target].unique())\n",
    "    \n",
    "    #This loop iterates over every feature in dataset..\n",
    "    for feature in features:\n",
    "        feature_categories = list(data[feature].unique())\n",
    "        \n",
    "        gini_sum = 0.0\n",
    "        #This loop calculates weighted_gini...\n",
    "        for category in feature_categories:\n",
    "            prob_category = len(data[data[feature] == category])/len(data[feature])\n",
    "            \n",
    "            gini_category = 0.0\n",
    "            #This loop calculates gini...\n",
    "            for _class in classes:\n",
    "                prob_subcategory = len(data[(data[feature] == category) & (data[data.columns[-1]] == _class)])/len(data[data[feature] == category])\n",
    "                gini_category += prob_subcategory**2\n",
    "            \n",
    "            gini_category = 1 - gini_category\n",
    "            gini_sum += prob_category * gini_category\n",
    "        \n",
    "        features_gini[feature] = gini_sum\n",
    "     \n",
    "    return features_gini"
   ]
  },
  {
   "cell_type": "code",
   "execution_count": 7,
   "metadata": {},
   "outputs": [],
   "source": [
    "def _entropy_sample(target):\n",
    "    \"\"\"\n",
    "    It calculates the entropy of target.\n",
    "    \n",
    "    :param target: Series\n",
    "        Pandas Series of target feature in dataset.\n",
    "    :return entropy: float\n",
    "        Returns entropy of target variable.\n",
    "    \"\"\"\n",
    "    \n",
    "    classes = list(target.unique())\n",
    "    \n",
    "    entropy = 0.0\n",
    "    for _class in classes:\n",
    "        prob = len(target[target == _class])/len(target)\n",
    "        entropy += prob * np.log2(prob+1e-323)\n",
    "    \n",
    "    entropy = -1.0 * entropy\n",
    "    return entropy"
   ]
  },
  {
   "cell_type": "code",
   "execution_count": 8,
   "metadata": {},
   "outputs": [],
   "source": [
    "def _gini_sample(target):\n",
    "    \"\"\"\n",
    "    It calculates the gini of target.\n",
    "    \n",
    "    :param target: Series\n",
    "        Pandas Series of target feature in dataset.\n",
    "    :return entropy: float\n",
    "        Returns gini of target variable.\n",
    "    \"\"\"\n",
    "    \n",
    "    classes = list(target.unique())\n",
    "    \n",
    "    gini = 0.0\n",
    "    for _class in classes:\n",
    "        prob = len(target[target == _class])/len(target)\n",
    "        gini += prob**2\n",
    "    \n",
    "    gini = 1.0 - gini\n",
    "    return gini"
   ]
  },
  {
   "cell_type": "code",
   "execution_count": 9,
   "metadata": {},
   "outputs": [],
   "source": [
    "def _info_gain(impurity_sample, features_impurity):\n",
    "    \"\"\"\n",
    "    It takes impurity(entropy or gini) of whole dataset and\n",
    "    impurity of features and calculates Information Gain.\n",
    "    \n",
    "    :param impurity_sample: float\n",
    "        Entropy or Gini calculated for target variable.\n",
    "    :param features_impurity: dict()\n",
    "        Calculated impurity(entropy or gini) for each feature variable.\n",
    "    :return info_gain: dict()\n",
    "        Returns dictionary containing I.G for each variable.\n",
    "    \"\"\"\n",
    "    \n",
    "    info_gain = {}\n",
    "    for feature in list(features_impurity.keys()):\n",
    "        info_gain[feature] = impurity_sample - features_impurity[feature]\n",
    "    \n",
    "    info_gain = {k: v for k, v in sorted(info_gain.items(), key=lambda item: item[1], reverse=True)}\n",
    "    return info_gain"
   ]
  },
  {
   "cell_type": "code",
   "execution_count": 10,
   "metadata": {},
   "outputs": [],
   "source": [
    "def IUFS(dataset, target, measure, k):\n",
    "    \"\"\"\n",
    "    It calculates I.G for features based on measure either\n",
    "    gini or entropy and returns names of k no of features\n",
    "    along with their information gain.\n",
    "    \n",
    "    :param dataset: Dataframe\n",
    "        Pandas Dataframe(dataset).\n",
    "    :param target: str\n",
    "        Target variable name.\n",
    "    :param measure: str\n",
    "        'entropy' or 'gini'\n",
    "    :param k: int\n",
    "        No of top features to retreive.\n",
    "    :return features_gain: dict()\n",
    "        I.G for each variable in descending order.\n",
    "    \"\"\"\n",
    "    \n",
    "    assert target in  dataset.columns, \"Invalid target value!\"\n",
    "    \n",
    "    features_gain = None\n",
    "    if measure is 'entropy':\n",
    "        features_impurity = _calculate_weighted_entropy(dataset, target)\n",
    "        features_gain = _info_gain(_entropy_sample(data[target]), features_impurity)\n",
    "    elif measure is 'gini':\n",
    "        features_impurity = _calculate_weighted_gini(dataset, target)\n",
    "        features_gain = _info_gain(_gini_sample(data[target]), features_impurity)\n",
    "    else:\n",
    "        assert False, \"Invalid measure parameter!\"\n",
    "        \n",
    "    assert k <= len(dataset.columns) - 1, \"No of k can't be greater than total no of features!\"\n",
    "    features_gain = {key: features_gain[key] for i, key in enumerate(list(features_gain.keys())) if i < k}\n",
    "    \n",
    "    return features_gain"
   ]
  },
  {
   "cell_type": "code",
   "execution_count": 11,
   "metadata": {},
   "outputs": [
    {
     "data": {
      "text/plain": [
       "{'Outlook': 0.11632653061224485,\n",
       " 'Humidity': 0.09183673469387743,\n",
       " 'Wind': 0.030612244897959162,\n",
       " 'Temperature': 0.018707482993197244}"
      ]
     },
     "execution_count": 11,
     "metadata": {},
     "output_type": "execute_result"
    }
   ],
   "source": [
    "#Calling IUFS and getting columns with their I.G...\n",
    "IUFS(data, 'Play', 'gini', 4)"
   ]
  },
  {
   "cell_type": "code",
   "execution_count": null,
   "metadata": {},
   "outputs": [],
   "source": []
  },
  {
   "cell_type": "code",
   "execution_count": null,
   "metadata": {},
   "outputs": [],
   "source": []
  },
  {
   "cell_type": "code",
   "execution_count": null,
   "metadata": {},
   "outputs": [],
   "source": []
  },
  {
   "cell_type": "code",
   "execution_count": null,
   "metadata": {},
   "outputs": [],
   "source": []
  },
  {
   "cell_type": "code",
   "execution_count": null,
   "metadata": {},
   "outputs": [],
   "source": []
  },
  {
   "cell_type": "code",
   "execution_count": 12,
   "metadata": {},
   "outputs": [
    {
     "data": {
      "text/plain": [
       "True"
      ]
     },
     "execution_count": 12,
     "metadata": {},
     "output_type": "execute_result"
    }
   ],
   "source": [
    "(True | False) and (True or False) or (True & False) and (True and False)"
   ]
  },
  {
   "cell_type": "code",
   "execution_count": 13,
   "metadata": {},
   "outputs": [
    {
     "data": {
      "text/plain": [
       "True"
      ]
     },
     "execution_count": 13,
     "metadata": {},
     "output_type": "execute_result"
    }
   ],
   "source": [
    "np.log2(10) == np.log2(10+1e-323)"
   ]
  }
 ],
 "metadata": {
  "kernelspec": {
   "display_name": "Python 3",
   "language": "python",
   "name": "python3"
  },
  "language_info": {
   "codemirror_mode": {
    "name": "ipython",
    "version": 3
   },
   "file_extension": ".py",
   "mimetype": "text/x-python",
   "name": "python",
   "nbconvert_exporter": "python",
   "pygments_lexer": "ipython3",
   "version": "3.6.9"
  }
 },
 "nbformat": 4,
 "nbformat_minor": 2
}
