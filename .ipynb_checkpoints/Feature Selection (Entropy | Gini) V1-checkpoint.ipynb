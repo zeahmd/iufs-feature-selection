{
 "cells": [
  {
   "cell_type": "code",
   "execution_count": 10,
   "metadata": {},
   "outputs": [],
   "source": [
    "import pandas as pd\n",
    "import numpy as np\n",
    "import matplotlib\n",
    "import matplotlib.pyplot as plt\n",
    "%matplotlib inline"
   ]
  },
  {
   "cell_type": "markdown",
   "metadata": {},
   "source": [
    "### Read the dataset"
   ]
  },
  {
   "cell_type": "code",
   "execution_count": 11,
   "metadata": {},
   "outputs": [
    {
     "name": "stdout",
     "output_type": "stream",
     "text": [
      "<class 'pandas.core.frame.DataFrame'>\n",
      "RangeIndex: 1728 entries, 0 to 1727\n",
      "Data columns (total 7 columns):\n",
      "buying        1728 non-null object\n",
      "maint         1728 non-null object\n",
      "doors         1728 non-null object\n",
      "persons       1728 non-null object\n",
      "lug_boot      1728 non-null object\n",
      "safety        1728 non-null object\n",
      "evaluation    1728 non-null object\n",
      "dtypes: object(7)\n",
      "memory usage: 94.6+ KB\n"
     ]
    }
   ],
   "source": [
    "edf = pd.read_csv(\"careval.csv\")\n",
    "# edf.head()\n",
    "edf.info()"
   ]
  },
  {
   "cell_type": "code",
   "execution_count": 12,
   "metadata": {},
   "outputs": [
    {
     "data": {
      "text/html": [
       "<div>\n",
       "<style scoped>\n",
       "    .dataframe tbody tr th:only-of-type {\n",
       "        vertical-align: middle;\n",
       "    }\n",
       "\n",
       "    .dataframe tbody tr th {\n",
       "        vertical-align: top;\n",
       "    }\n",
       "\n",
       "    .dataframe thead th {\n",
       "        text-align: right;\n",
       "    }\n",
       "</style>\n",
       "<table border=\"1\" class=\"dataframe\">\n",
       "  <thead>\n",
       "    <tr style=\"text-align: right;\">\n",
       "      <th></th>\n",
       "      <th>buying</th>\n",
       "      <th>maint</th>\n",
       "      <th>doors</th>\n",
       "      <th>persons</th>\n",
       "      <th>lug_boot</th>\n",
       "      <th>safety</th>\n",
       "      <th>evaluation</th>\n",
       "    </tr>\n",
       "  </thead>\n",
       "  <tbody>\n",
       "    <tr>\n",
       "      <th>0</th>\n",
       "      <td>vhigh</td>\n",
       "      <td>vhigh</td>\n",
       "      <td>2</td>\n",
       "      <td>2</td>\n",
       "      <td>small</td>\n",
       "      <td>low</td>\n",
       "      <td>unacc</td>\n",
       "    </tr>\n",
       "    <tr>\n",
       "      <th>1</th>\n",
       "      <td>vhigh</td>\n",
       "      <td>vhigh</td>\n",
       "      <td>2</td>\n",
       "      <td>2</td>\n",
       "      <td>small</td>\n",
       "      <td>med</td>\n",
       "      <td>unacc</td>\n",
       "    </tr>\n",
       "    <tr>\n",
       "      <th>2</th>\n",
       "      <td>vhigh</td>\n",
       "      <td>vhigh</td>\n",
       "      <td>2</td>\n",
       "      <td>2</td>\n",
       "      <td>small</td>\n",
       "      <td>high</td>\n",
       "      <td>unacc</td>\n",
       "    </tr>\n",
       "    <tr>\n",
       "      <th>3</th>\n",
       "      <td>vhigh</td>\n",
       "      <td>vhigh</td>\n",
       "      <td>2</td>\n",
       "      <td>2</td>\n",
       "      <td>med</td>\n",
       "      <td>low</td>\n",
       "      <td>unacc</td>\n",
       "    </tr>\n",
       "    <tr>\n",
       "      <th>4</th>\n",
       "      <td>vhigh</td>\n",
       "      <td>vhigh</td>\n",
       "      <td>2</td>\n",
       "      <td>2</td>\n",
       "      <td>med</td>\n",
       "      <td>med</td>\n",
       "      <td>unacc</td>\n",
       "    </tr>\n",
       "  </tbody>\n",
       "</table>\n",
       "</div>"
      ],
      "text/plain": [
       "  buying  maint doors persons lug_boot safety evaluation\n",
       "0  vhigh  vhigh     2       2    small    low      unacc\n",
       "1  vhigh  vhigh     2       2    small    med      unacc\n",
       "2  vhigh  vhigh     2       2    small   high      unacc\n",
       "3  vhigh  vhigh     2       2      med    low      unacc\n",
       "4  vhigh  vhigh     2       2      med    med      unacc"
      ]
     },
     "execution_count": 12,
     "metadata": {},
     "output_type": "execute_result"
    }
   ],
   "source": [
    "edf.head()"
   ]
  },
  {
   "cell_type": "markdown",
   "metadata": {},
   "source": [
    "You will create a method called IUFS (impurity-based univariate feature selection), which will select the most informative features with a univariate feature selection schema. This feature selection method will take the dataset, name of the target variable, number of features to be selected (k) and the measure of impurity as an input, and will output the names of k best features based on the information gain. You are expected to implement information gain, entropy and Gini index functions. Note here that this will be a univariate selection, which means that you need to test the features individually."
   ]
  },
  {
   "cell_type": "code",
   "execution_count": 13,
   "metadata": {},
   "outputs": [
    {
     "data": {
      "text/plain": [
       "1.1092920008425613"
      ]
     },
     "execution_count": 13,
     "metadata": {},
     "output_type": "execute_result"
    }
   ],
   "source": [
    "# entropy (H)\n",
    "\n",
    "\n",
    "def entropy(feature, dataset):\n",
    "    \"\"\"Calculates the entropy of a feature in a given dataset.\n",
    "\n",
    "    Parameters\n",
    "    ----------\n",
    "    feature: str\n",
    "        name of the feature\n",
    "    dataset: pd.DataFrame\n",
    "        dataframe for the dataset\n",
    "    Returns\n",
    "    -------\n",
    "    float\n",
    "        entropy for the feature in the dataset\n",
    "    \"\"\"\n",
    "\n",
    "    assert feature in dataset.columns, \"Invalid feature value!\"\n",
    "\n",
    "    classes = list(dataset[dataset.columns[-1]].unique())\n",
    "    feature_categories = list(dataset[feature].unique())\n",
    "\n",
    "    entropy_sum = 0.0\n",
    "    # This loop calculates weighted_entropy...\n",
    "    for category in feature_categories:\n",
    "        prob_category = len(dataset[dataset[feature] == category]) / len(\n",
    "            dataset[feature]\n",
    "        )\n",
    "\n",
    "        entropy_category = 0.0\n",
    "        # This loop calculates entropy...\n",
    "        for _class in classes:\n",
    "            prob_subcategory = len(\n",
    "                dataset[\n",
    "                    (dataset[feature] == category)\n",
    "                    & (dataset[dataset.columns[-1]] == _class)\n",
    "                ]\n",
    "            ) / len(dataset[dataset[feature] == category])\n",
    "            entropy_category += -1.0 * (\n",
    "                prob_subcategory * np.log2(prob_subcategory + 1e-323)\n",
    "            )\n",
    "\n",
    "        entropy_sum += prob_category * entropy_category\n",
    "\n",
    "    return entropy_sum\n",
    "\n",
    "\n",
    "entropy(\"buying\", edf)"
   ]
  },
  {
   "cell_type": "code",
   "execution_count": 14,
   "metadata": {},
   "outputs": [
    {
     "data": {
      "text/plain": [
       "0.4429976851851852"
      ]
     },
     "execution_count": 14,
     "metadata": {},
     "output_type": "execute_result"
    }
   ],
   "source": [
    "# gini index (Gini)\n",
    "\n",
    "\n",
    "def gini(feature, dataset):\n",
    "    \"\"\"Calculates the gini index of a feature in a given dataset.\n",
    "\n",
    "    Parameters\n",
    "    ----------\n",
    "    feature: str\n",
    "        name of the feature\n",
    "    dataset: pd.DataFrame\n",
    "        dataframe for the dataset\n",
    "    Returns\n",
    "    -------\n",
    "    float\n",
    "        gini index for the feature in the dataset\n",
    "    \"\"\"\n",
    "\n",
    "    assert feature in dataset.columns, \"Invalid feature value!\"\n",
    "\n",
    "    classes = list(dataset[dataset.columns[-1]].unique())\n",
    "    feature_categories = list(dataset[feature].unique())\n",
    "\n",
    "    gini_sum = 0.0\n",
    "    # This loop calculates weighted_entropy...\n",
    "    for category in feature_categories:\n",
    "        prob_category = len(dataset[dataset[feature] == category]) / len(\n",
    "            dataset[feature]\n",
    "        )\n",
    "\n",
    "        gini_category = 0.0\n",
    "        # This loop calculates entropy...\n",
    "        for _class in classes:\n",
    "            prob_subcategory = len(\n",
    "                dataset[\n",
    "                    (dataset[feature] == category)\n",
    "                    & (dataset[dataset.columns[-1]] == _class)\n",
    "                ]\n",
    "            ) / len(dataset[dataset[feature] == category])\n",
    "            gini_category += prob_subcategory ** 2\n",
    "\n",
    "        gini_category = 1 - gini_category\n",
    "        gini_sum += prob_category * gini_category\n",
    "\n",
    "    return gini_sum\n",
    "\n",
    "\n",
    "gini(\"buying\", edf)"
   ]
  },
  {
   "cell_type": "code",
   "execution_count": 15,
   "metadata": {},
   "outputs": [
    {
     "data": {
      "text/plain": [
       "0.014286077889231918"
      ]
     },
     "execution_count": 15,
     "metadata": {},
     "output_type": "execute_result"
    }
   ],
   "source": [
    "# information gain (IG)\n",
    "\n",
    "\n",
    "def IG(feature, target, dataset, measure):\n",
    "    \"\"\"Calculates the information gain of a feature for a given target variable and a dataset.\n",
    "\n",
    "    Parameters\n",
    "    ----------\n",
    "    feature: str\n",
    "        name of the feature\n",
    "    target: str\n",
    "        name of the target variable\n",
    "    dataset: pd.DataFrame\n",
    "        dataframe for the dataset\n",
    "    measure: str ('entropy' or 'gini')\n",
    "        measure of impurity to be used\n",
    "    Returns\n",
    "    -------\n",
    "    float\n",
    "        information gain for the feature in the dataset for a given target variable\n",
    "    \"\"\"\n",
    "\n",
    "    assert feature in dataset.columns, \"Invalid feature value!\"\n",
    "    assert target in dataset.columns, \"Invalid target value!\"\n",
    "    assert measure in [\"entropy\", \"gini\"], \"Invalid measure value!\"\n",
    "\n",
    "    def _entropy_sample(target):\n",
    "        classes = list(target.unique())\n",
    "\n",
    "        entropy = 0.0\n",
    "        for _class in classes:\n",
    "            prob = len(target[target == _class]) / len(target)\n",
    "            entropy += prob * np.log2(prob + 1e-323)\n",
    "\n",
    "        entropy = -1.0 * entropy\n",
    "        return entropy\n",
    "\n",
    "    def _gini_sample(target):\n",
    "        classes = list(target.unique())\n",
    "\n",
    "        gini = 0.0\n",
    "        for _class in classes:\n",
    "            prob = len(target[target == _class]) / len(target)\n",
    "            gini += prob ** 2\n",
    "\n",
    "        gini = 1.0 - gini\n",
    "        return gini\n",
    "\n",
    "    if measure is \"entropy\":\n",
    "        return _entropy_sample(dataset[target]) - entropy(feature, dataset)\n",
    "    elif measure is \"gini\":\n",
    "        return _gini_sample(dataset[target]) - gini(feature, dataset)\n",
    "    else:\n",
    "        assert False, \"Invalid measure value!\"\n",
    "\n",
    "\n",
    "IG(\"buying\", \"evaluation\", edf, \"gini\")"
   ]
  },
  {
   "cell_type": "code",
   "execution_count": 16,
   "metadata": {},
   "outputs": [
    {
     "data": {
      "text/plain": [
       "['safety', 'persons']"
      ]
     },
     "execution_count": 16,
     "metadata": {},
     "output_type": "execute_result"
    }
   ],
   "source": [
    "def IUFS(target, dataset, k, measure=\"entropy\"):\n",
    "    \"\"\"Finds k most informative features in the given dataset based on the target variable\n",
    "        using information gain with the selected measure.\n",
    "\n",
    "    Parameters\n",
    "    ----------\n",
    "    target: str\n",
    "        name of the target variable\n",
    "    dataset: pd.DataFrame\n",
    "        dataframe for the dataset\n",
    "    k: int\n",
    "        number of features to return, must be less than or equal to number of descriptive features in dataset.\n",
    "        in other words, 0 < k < len(dataset.columns).\n",
    "    measure: str, 'entropy' or 'gini'\n",
    "        measure of impurity\n",
    "    Returns\n",
    "    -------\n",
    "    list\n",
    "        returns a list of k feature names, selected based on univariate selection schema\n",
    "    \"\"\"\n",
    "    assert target in dataset.columns, \"Invalid target value!\"\n",
    "    assert measure in [\"entropy\", \"gini\"], \"Invalid measure value!\"\n",
    "    assert k < len(dataset.columns) and k > 0, \"Invalid k value!\"\n",
    "\n",
    "    features = list(dataset.columns)[:-1]\n",
    "\n",
    "    info_gain = {}\n",
    "    for feature in features:\n",
    "        info_gain[feature] = IG(feature, target, dataset, measure)\n",
    "\n",
    "    info_gain = {\n",
    "        k: v\n",
    "        for k, v in sorted(info_gain.items(), key=lambda item: item[1], reverse=True)\n",
    "    }\n",
    "    info_gain = {\n",
    "        key: info_gain[key] for i, key in enumerate(list(info_gain.keys())) if i < k\n",
    "    }\n",
    "    return list(info_gain.keys())\n",
    "\n",
    "\n",
    "IUFS(\"evaluation\", edf, 2, measure=\"entropy\")"
   ]
  },
  {
   "cell_type": "code",
   "execution_count": 17,
   "metadata": {},
   "outputs": [
    {
     "data": {
      "text/plain": [
       "0.007143038944615959"
      ]
     },
     "execution_count": 17,
     "metadata": {},
     "output_type": "execute_result"
    }
   ],
   "source": [
    "def GR(feature, target, dataset, measure):\n",
    "    \"\"\"Calculates the gain ratio of a feature for a given target variable and a dataset.\n",
    "\n",
    "    Parameters\n",
    "    ----------\n",
    "    feature: str\n",
    "        name of the feature\n",
    "    target: str\n",
    "        name of the target variable\n",
    "    dataset: pd.DataFrame\n",
    "        dataframe for the dataset\n",
    "    measure: str ('entropy' or 'gini')\n",
    "        measure of impurity to be used\n",
    "    Returns\n",
    "    -------\n",
    "    float\n",
    "        gain ratio for the feature in the dataset for a given target variable\n",
    "    \"\"\"\n",
    "\n",
    "    assert feature in dataset.columns, \"Invalid feature value!\"\n",
    "    assert target in dataset.columns, \"Invalid target value!\"\n",
    "    assert measure in [\"entropy\", \"gini\"], \"Invalid measure value!\"\n",
    "\n",
    "    def _split_info(feature):\n",
    "        sub_categories = list(feature.unique())\n",
    "\n",
    "        split_info = 0.0\n",
    "        for _category in sub_categories:\n",
    "            prob = len(feature[feature == _category]) / len(feature)\n",
    "            split_info += prob * np.log2(prob + 1e-323)\n",
    "\n",
    "        split_info = -1.0 * split_info\n",
    "        return split_info\n",
    "\n",
    "    info_gain = IG(feature, target, dataset, measure)\n",
    "    split_info = _split_info(dataset[feature])\n",
    "    gain_ratio = info_gain / split_info\n",
    "    return gain_ratio\n",
    "\n",
    "\n",
    "GR(\"buying\", \"evaluation\", edf, \"gini\")"
   ]
  },
  {
   "cell_type": "code",
   "execution_count": 18,
   "metadata": {},
   "outputs": [
    {
     "data": {
      "text/plain": [
       "['safety', 'persons']"
      ]
     },
     "execution_count": 18,
     "metadata": {},
     "output_type": "execute_result"
    }
   ],
   "source": [
    "def IUFS2(target, dataset, k, measure=\"entropy\", gain=\"IG\"):\n",
    "    \"\"\"Finds k most informative features in the given dataset based on the target variable\n",
    "        using information gain with the selected measure.\n",
    "\n",
    "    Parameters\n",
    "    ----------\n",
    "    target: str\n",
    "        name of the target variable\n",
    "    dataset: pd.DataFrame\n",
    "        dataframe for the dataset\n",
    "    k: int\n",
    "        number of features to return, must be less than or equal to number of descriptive features in dataset.\n",
    "        in other words, 0 < k < len(dataset.columns).\n",
    "    measure: str, 'entropy' or 'gini'\n",
    "        measure of impurity\n",
    "    gain: str, 'IG' or 'GR'\n",
    "        feature selection metric ('IG' for information gain, 'GR' for gain ratio)\n",
    "    Returns\n",
    "    -------\n",
    "    list\n",
    "        returns a list of k feature names, selected based on univariate selection schema\n",
    "    \"\"\"\n",
    "\n",
    "    assert target in dataset.columns, \"Invalid target value!\"\n",
    "    assert measure in [\"entropy\", \"gini\"], \"Invalid measure value!\"\n",
    "    assert k < len(dataset.columns) and k > 0, \"Invalid k value!\"\n",
    "    assert gain in [\"IG\", \"GR\"], \"Invalid gain value!\"\n",
    "\n",
    "    features = list(dataset.columns)[:-1]\n",
    "\n",
    "    gain_metric = {}\n",
    "    for feature in features:\n",
    "        if gain is \"IG\":\n",
    "            gain_metric[feature] = IG(feature, target, dataset, measure)\n",
    "        elif gain is \"GR\":\n",
    "            gain_metric[feature] = GR(feature, target, dataset, measure)\n",
    "\n",
    "    gain_metric = {\n",
    "        k: v\n",
    "        for k, v in sorted(gain_metric.items(), key=lambda item: item[1], reverse=True)\n",
    "    }\n",
    "    gain_metric = {\n",
    "        key: gain_metric[key] for i, key in enumerate(list(gain_metric.keys())) if i < k\n",
    "    }\n",
    "    return list(gain_metric.keys())\n",
    "\n",
    "\n",
    "IUFS2(\"evaluation\", edf, 2, measure=\"gini\", gain=\"GR\")"
   ]
  }
 ],
 "metadata": {
  "kernelspec": {
   "display_name": "Python 3",
   "language": "python",
   "name": "python3"
  },
  "language_info": {
   "codemirror_mode": {
    "name": "ipython",
    "version": 3
   },
   "file_extension": ".py",
   "mimetype": "text/x-python",
   "name": "python",
   "nbconvert_exporter": "python",
   "pygments_lexer": "ipython3",
   "version": "3.7.6"
  }
 },
 "nbformat": 4,
 "nbformat_minor": 2
}
